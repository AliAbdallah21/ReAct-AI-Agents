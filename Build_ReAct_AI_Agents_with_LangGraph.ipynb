{
  "nbformat": 4,
  "nbformat_minor": 0,
  "metadata": {
    "colab": {
      "provenance": [],
      "authorship_tag": "ABX9TyOQN3517TonDwfa/6EcKnAt",
      "include_colab_link": true
    },
    "kernelspec": {
      "name": "python3",
      "display_name": "Python 3"
    },
    "language_info": {
      "name": "python"
    }
  },
  "cells": [
    {
      "cell_type": "markdown",
      "metadata": {
        "id": "view-in-github",
        "colab_type": "text"
      },
      "source": [
        "<a href=\"https://colab.research.google.com/github/AliAbdallah21/ReAct-AI-Agents/blob/main/Build_ReAct_AI_Agents_with_LangGraph.ipynb\" target=\"_parent\"><img src=\"https://colab.research.google.com/assets/colab-badge.svg\" alt=\"Open In Colab\"/></a>"
      ]
    },
    {
      "cell_type": "code",
      "execution_count": 1,
      "metadata": {
        "colab": {
          "base_uri": "https://localhost:8080/"
        },
        "collapsed": true,
        "id": "TXa2OySLVvh1",
        "outputId": "050d579f-dee6-4cd5-811a-1964f54921f5"
      },
      "outputs": [
        {
          "output_type": "stream",
          "name": "stdout",
          "text": [
            "\u001b[33m\r0% [Working]\u001b[0m\r            \rGet:1 http://security.ubuntu.com/ubuntu jammy-security InRelease [129 kB]\n",
            "\u001b[33m\r0% [Connecting to archive.ubuntu.com (185.125.190.83)] [1 InRelease 5,484 B/129\u001b[0m\u001b[33m\r0% [Waiting for headers] [Waiting for headers] [Connected to r2u.stat.illinois.\u001b[0m\r                                                                               \rGet:2 https://cloud.r-project.org/bin/linux/ubuntu jammy-cran40/ InRelease [3,632 B]\n",
            "Hit:3 https://cli.github.com/packages stable InRelease\n",
            "Hit:4 http://archive.ubuntu.com/ubuntu jammy InRelease\n",
            "Get:5 https://developer.download.nvidia.com/compute/cuda/repos/ubuntu2204/x86_64  InRelease [1,581 B]\n",
            "Get:6 https://r2u.stat.illinois.edu/ubuntu jammy InRelease [6,555 B]\n",
            "Get:7 http://archive.ubuntu.com/ubuntu jammy-updates InRelease [128 kB]\n",
            "Get:8 http://security.ubuntu.com/ubuntu jammy-security/main amd64 Packages [3,297 kB]\n",
            "Hit:9 https://ppa.launchpadcontent.net/deadsnakes/ppa/ubuntu jammy InRelease\n",
            "Hit:10 https://ppa.launchpadcontent.net/graphics-drivers/ppa/ubuntu jammy InRelease\n",
            "Get:11 http://security.ubuntu.com/ubuntu jammy-security/universe amd64 Packages [1,272 kB]\n",
            "Get:12 http://archive.ubuntu.com/ubuntu jammy-backports InRelease [127 kB]\n",
            "Hit:13 https://ppa.launchpadcontent.net/ubuntugis/ppa/ubuntu jammy InRelease\n",
            "Get:14 http://security.ubuntu.com/ubuntu jammy-security/restricted amd64 Packages [5,340 kB]\n",
            "Get:15 https://developer.download.nvidia.com/compute/cuda/repos/ubuntu2204/x86_64  Packages [1,942 kB]\n",
            "Get:16 https://r2u.stat.illinois.edu/ubuntu jammy/main amd64 Packages [2,783 kB]\n",
            "Get:17 https://r2u.stat.illinois.edu/ubuntu jammy/main all Packages [9,209 kB]\n",
            "Get:18 http://archive.ubuntu.com/ubuntu jammy-updates/restricted amd64 Packages [5,543 kB]\n",
            "Get:19 http://archive.ubuntu.com/ubuntu jammy-updates/main amd64 Packages [3,617 kB]\n",
            "Get:20 http://archive.ubuntu.com/ubuntu jammy-updates/universe amd64 Packages [1,576 kB]\n",
            "Fetched 35.0 MB in 6s (5,831 kB/s)\n",
            "Reading package lists... Done\n",
            "Building dependency tree... Done\n",
            "Reading state information... Done\n",
            "41 packages can be upgraded. Run 'apt list --upgradable' to see them.\n",
            "\u001b[1;33mW: \u001b[0mSkipping acquire of configured file 'main/source/Sources' as repository 'https://r2u.stat.illinois.edu/ubuntu jammy InRelease' does not seem to provide it (sources.list entry misspelt?)\u001b[0m\n",
            "Reading package lists... Done\n",
            "Building dependency tree... Done\n",
            "Reading state information... Done\n",
            "graphviz is already the newest version (2.42.2-6ubuntu0.1).\n",
            "The following packages were automatically installed and are no longer required:\n",
            "  libbz2-dev libpkgconf3 libreadline-dev\n",
            "Use 'apt autoremove' to remove them.\n",
            "The following additional packages will be installed:\n",
            "  libgail-common libgail18 libgtk2.0-0 libgtk2.0-bin libgtk2.0-common\n",
            "  libgvc6-plugins-gtk librsvg2-common libxdot4\n",
            "Suggested packages:\n",
            "  gvfs\n",
            "The following packages will be REMOVED:\n",
            "  pkgconf r-base-dev\n",
            "The following NEW packages will be installed:\n",
            "  libgail-common libgail18 libgraphviz-dev libgtk2.0-0 libgtk2.0-bin\n",
            "  libgtk2.0-common libgvc6-plugins-gtk librsvg2-common libxdot4 pkg-config\n",
            "0 upgraded, 10 newly installed, 2 to remove and 41 not upgraded.\n",
            "Need to get 2,482 kB of archives.\n",
            "After this operation, 7,671 kB of additional disk space will be used.\n",
            "Get:1 http://archive.ubuntu.com/ubuntu jammy/main amd64 pkg-config amd64 0.29.2-1ubuntu3 [48.2 kB]\n",
            "Get:2 http://archive.ubuntu.com/ubuntu jammy-updates/main amd64 libgtk2.0-common all 2.24.33-2ubuntu2.1 [125 kB]\n",
            "Get:3 http://archive.ubuntu.com/ubuntu jammy-updates/main amd64 libgtk2.0-0 amd64 2.24.33-2ubuntu2.1 [2,038 kB]\n",
            "Get:4 http://archive.ubuntu.com/ubuntu jammy-updates/main amd64 libgail18 amd64 2.24.33-2ubuntu2.1 [15.9 kB]\n",
            "Get:5 http://archive.ubuntu.com/ubuntu jammy-updates/main amd64 libgail-common amd64 2.24.33-2ubuntu2.1 [132 kB]\n",
            "Get:6 http://archive.ubuntu.com/ubuntu jammy-updates/universe amd64 libxdot4 amd64 2.42.2-6ubuntu0.1 [16.4 kB]\n",
            "Get:7 http://archive.ubuntu.com/ubuntu jammy-updates/universe amd64 libgvc6-plugins-gtk amd64 2.42.2-6ubuntu0.1 [22.5 kB]\n",
            "Get:8 http://archive.ubuntu.com/ubuntu jammy-updates/universe amd64 libgraphviz-dev amd64 2.42.2-6ubuntu0.1 [58.5 kB]\n",
            "Get:9 http://archive.ubuntu.com/ubuntu jammy-updates/main amd64 libgtk2.0-bin amd64 2.24.33-2ubuntu2.1 [7,936 B]\n",
            "Get:10 http://archive.ubuntu.com/ubuntu jammy-updates/main amd64 librsvg2-common amd64 2.52.5+dfsg-3ubuntu0.2 [17.7 kB]\n",
            "Fetched 2,482 kB in 0s (9,110 kB/s)\n",
            "(Reading database ... 126371 files and directories currently installed.)\n",
            "Removing r-base-dev (4.5.1-1.2204.0) ...\n",
            "\u001b[1mdpkg:\u001b[0m pkgconf: dependency problems, but removing anyway as you requested:\n",
            " libsndfile1-dev:amd64 depends on pkg-config; however:\n",
            "  Package pkg-config is not installed.\n",
            "  Package pkgconf which provides pkg-config is to be removed.\n",
            " libopencv-dev depends on pkg-config; however:\n",
            "  Package pkg-config is not installed.\n",
            "  Package pkgconf which provides pkg-config is to be removed.\n",
            " libmkl-dev:amd64 depends on pkg-config; however:\n",
            "  Package pkg-config is not installed.\n",
            "  Package pkgconf which provides pkg-config is to be removed.\n",
            " libjack-dev depends on pkg-config; however:\n",
            "  Package pkg-config is not installed.\n",
            "  Package pkgconf which provides pkg-config is to be removed.\n",
            " libgphoto2-dev:amd64 depends on pkg-config; however:\n",
            "  Package pkg-config is not installed.\n",
            "  Package pkgconf which provides pkg-config is to be removed.\n",
            " libglib2.0-dev:amd64 depends on pkg-config; however:\n",
            "  Package pkg-config is not installed.\n",
            "  Package pkgconf which provides pkg-config is to be removed.\n",
            " libfontconfig-dev:amd64 depends on pkg-config; however:\n",
            "  Package pkg-config is not installed.\n",
            "  Package pkgconf which provides pkg-config is to be removed.\n",
            "\n",
            "Removing pkgconf (1.8.0-1) ...\n",
            "Removing 'diversion of /usr/bin/pkg-config to /usr/bin/pkg-config.real by pkgconf'\n",
            "Removing 'diversion of /usr/share/aclocal/pkg.m4 to /usr/share/aclocal/pkg.real.m4 by pkgconf'\n",
            "Removing 'diversion of /usr/share/man/man1/pkg-config.1.gz to /usr/share/man/man1/pkg-config.real.1.gz by pkgconf'\n",
            "Removing 'diversion of /usr/share/pkg-config-crosswrapper to /usr/share/pkg-config-crosswrapper.real by pkgconf'\n",
            "Selecting previously unselected package pkg-config.\n",
            "(Reading database ... 126347 files and directories currently installed.)\n",
            "Preparing to unpack .../0-pkg-config_0.29.2-1ubuntu3_amd64.deb ...\n",
            "Unpacking pkg-config (0.29.2-1ubuntu3) ...\n",
            "Selecting previously unselected package libgtk2.0-common.\n",
            "Preparing to unpack .../1-libgtk2.0-common_2.24.33-2ubuntu2.1_all.deb ...\n",
            "Unpacking libgtk2.0-common (2.24.33-2ubuntu2.1) ...\n",
            "Selecting previously unselected package libgtk2.0-0:amd64.\n",
            "Preparing to unpack .../2-libgtk2.0-0_2.24.33-2ubuntu2.1_amd64.deb ...\n",
            "Unpacking libgtk2.0-0:amd64 (2.24.33-2ubuntu2.1) ...\n",
            "Selecting previously unselected package libgail18:amd64.\n",
            "Preparing to unpack .../3-libgail18_2.24.33-2ubuntu2.1_amd64.deb ...\n",
            "Unpacking libgail18:amd64 (2.24.33-2ubuntu2.1) ...\n",
            "Selecting previously unselected package libgail-common:amd64.\n",
            "Preparing to unpack .../4-libgail-common_2.24.33-2ubuntu2.1_amd64.deb ...\n",
            "Unpacking libgail-common:amd64 (2.24.33-2ubuntu2.1) ...\n",
            "Selecting previously unselected package libxdot4:amd64.\n",
            "Preparing to unpack .../5-libxdot4_2.42.2-6ubuntu0.1_amd64.deb ...\n",
            "Unpacking libxdot4:amd64 (2.42.2-6ubuntu0.1) ...\n",
            "Selecting previously unselected package libgvc6-plugins-gtk.\n",
            "Preparing to unpack .../6-libgvc6-plugins-gtk_2.42.2-6ubuntu0.1_amd64.deb ...\n",
            "Unpacking libgvc6-plugins-gtk (2.42.2-6ubuntu0.1) ...\n",
            "Selecting previously unselected package libgraphviz-dev:amd64.\n",
            "Preparing to unpack .../7-libgraphviz-dev_2.42.2-6ubuntu0.1_amd64.deb ...\n",
            "Unpacking libgraphviz-dev:amd64 (2.42.2-6ubuntu0.1) ...\n",
            "Selecting previously unselected package libgtk2.0-bin.\n",
            "Preparing to unpack .../8-libgtk2.0-bin_2.24.33-2ubuntu2.1_amd64.deb ...\n",
            "Unpacking libgtk2.0-bin (2.24.33-2ubuntu2.1) ...\n",
            "Selecting previously unselected package librsvg2-common:amd64.\n",
            "Preparing to unpack .../9-librsvg2-common_2.52.5+dfsg-3ubuntu0.2_amd64.deb ...\n",
            "Unpacking librsvg2-common:amd64 (2.52.5+dfsg-3ubuntu0.2) ...\n",
            "Setting up libxdot4:amd64 (2.42.2-6ubuntu0.1) ...\n",
            "Setting up pkg-config (0.29.2-1ubuntu3) ...\n",
            "Setting up librsvg2-common:amd64 (2.52.5+dfsg-3ubuntu0.2) ...\n",
            "Setting up libgtk2.0-common (2.24.33-2ubuntu2.1) ...\n",
            "Setting up libgtk2.0-0:amd64 (2.24.33-2ubuntu2.1) ...\n",
            "Setting up libgvc6-plugins-gtk (2.42.2-6ubuntu0.1) ...\n",
            "Setting up libgail18:amd64 (2.24.33-2ubuntu2.1) ...\n",
            "Setting up libgtk2.0-bin (2.24.33-2ubuntu2.1) ...\n",
            "Setting up libgail-common:amd64 (2.24.33-2ubuntu2.1) ...\n",
            "Setting up libgraphviz-dev:amd64 (2.42.2-6ubuntu0.1) ...\n",
            "Processing triggers for libc-bin (2.35-0ubuntu3.8) ...\n",
            "/sbin/ldconfig.real: /usr/local/lib/libtbbbind_2_0.so.3 is not a symbolic link\n",
            "\n",
            "/sbin/ldconfig.real: /usr/local/lib/libhwloc.so.15 is not a symbolic link\n",
            "\n",
            "/sbin/ldconfig.real: /usr/local/lib/libtbbmalloc.so.2 is not a symbolic link\n",
            "\n",
            "/sbin/ldconfig.real: /usr/local/lib/libtcm.so.1 is not a symbolic link\n",
            "\n",
            "/sbin/ldconfig.real: /usr/local/lib/libur_adapter_level_zero_v2.so.0 is not a symbolic link\n",
            "\n",
            "/sbin/ldconfig.real: /usr/local/lib/libtbbbind_2_5.so.3 is not a symbolic link\n",
            "\n",
            "/sbin/ldconfig.real: /usr/local/lib/libtbbmalloc_proxy.so.2 is not a symbolic link\n",
            "\n",
            "/sbin/ldconfig.real: /usr/local/lib/libumf.so.0 is not a symbolic link\n",
            "\n",
            "/sbin/ldconfig.real: /usr/local/lib/libtbb.so.12 is not a symbolic link\n",
            "\n",
            "/sbin/ldconfig.real: /usr/local/lib/libur_adapter_level_zero.so.0 is not a symbolic link\n",
            "\n",
            "/sbin/ldconfig.real: /usr/local/lib/libtbbbind.so.3 is not a symbolic link\n",
            "\n",
            "/sbin/ldconfig.real: /usr/local/lib/libtcm_debug.so.1 is not a symbolic link\n",
            "\n",
            "/sbin/ldconfig.real: /usr/local/lib/libur_adapter_opencl.so.0 is not a symbolic link\n",
            "\n",
            "/sbin/ldconfig.real: /usr/local/lib/libur_loader.so.0 is not a symbolic link\n",
            "\n",
            "Processing triggers for man-db (2.10.2-1) ...\n",
            "Processing triggers for libgdk-pixbuf-2.0-0:amd64 (2.42.8+dfsg-1ubuntu0.4) ...\n"
          ]
        }
      ],
      "source": [
        "!apt update\n",
        "!apt install -y graphviz libgraphviz-dev pkg-config"
      ]
    },
    {
      "cell_type": "code",
      "source": [
        "%%capture\n",
        "!pip install langgraph==0.3.34 langchain-openai==0.3.14 langchainhub==0.1.21 langchain==0.3.24 pygraphviz==1.14 langchain-community==0.3.23"
      ],
      "metadata": {
        "id": "C_Lb6kQbVyjE"
      },
      "execution_count": 2,
      "outputs": []
    },
    {
      "cell_type": "code",
      "source": [
        "import warnings\n",
        "warnings.filterwarnings('ignore')\n",
        "\n",
        "from langchain_community.tools.tavily_search import TavilySearchResults\n",
        "from langchain.tools import tool\n",
        "import os\n",
        "import json\n",
        "\n",
        "from google.colab import userdata\n",
        "\n"
      ],
      "metadata": {
        "id": "AN8Cu2hOV9y5"
      },
      "execution_count": 5,
      "outputs": []
    },
    {
      "cell_type": "code",
      "source": [
        "tavily_api_key =  userdata.get('TAVILY_API_KEY')"
      ],
      "metadata": {
        "id": "_qe25OE6XiXy"
      },
      "execution_count": 6,
      "outputs": []
    },
    {
      "cell_type": "code",
      "source": [
        "if tavily_api_key is not None:\n",
        "  search = TavilySearchResults(tavily_api_key = tavily_api_key)\n",
        "else:\n",
        "  print(\"Tavily API key not found. Please ensure it is set in Colab secrets.\")"
      ],
      "metadata": {
        "id": "X9UInLc6Xwmt"
      },
      "execution_count": 12,
      "outputs": []
    },
    {
      "cell_type": "code",
      "source": [
        "@tool\n",
        "def search_tool(query: str):\n",
        "    \"\"\"\n",
        "    Search the web for information using Tavily API.\n",
        "\n",
        "    :param query: The search query string\n",
        "    :return: Search results related to the query\n",
        "    \"\"\"\n",
        "    return search.invoke(query)"
      ],
      "metadata": {
        "id": "034FuLWcYFyz"
      },
      "execution_count": 13,
      "outputs": []
    },
    {
      "cell_type": "code",
      "source": [
        "search_tool(\"What's the weather like in Tokyo today?\")"
      ],
      "metadata": {
        "colab": {
          "base_uri": "https://localhost:8080/"
        },
        "id": "Quc1IUxdYNyA",
        "outputId": "73c35e90-bc01-491f-bfec-f125cab83389"
      },
      "execution_count": 14,
      "outputs": [
        {
          "output_type": "execute_result",
          "data": {
            "text/plain": [
              "[{'title': 'Tokyo weather in August 2025',\n",
              "  'url': 'https://www.weather25.com/asia/japan/tokyo?page=month&month=August',\n",
              "  'content': 'Patchy rain possible\\nSunny\\nPartly cloudy\\nSunny\\nPartly cloudy\\nPartly cloudy\\nLight rain shower\\nPartly cloudy\\nSunny\\nPatchy rain possible\\nPatchy rain possible\\nPatchy rain possible\\nLight rain shower\\nPartly cloudy\\nModerate or heavy rain shower\\nPatchy rain possible\\nPatchy rain possible\\nPartly cloudy\\nPartly cloudy\\nPatchy rain possible\\nPartly cloudy\\nLight rain shower\\nPatchy light drizzle\\nPartly cloudy\\nPatchy rain possible\\nLight rain shower\\nPartly cloudy\\nPartly cloudy\\nPartly cloudy\\nSunny [...] weather25.com\\nSearch\\nweather in Japan\\nRemove from your favorite locations\\nAdd to my locations\\nShare\\nweather in Japan\\n\\n# Tokyo weather in August 2025\\n\\nClear\\nClear\\nPatchy rain possible\\nPatchy rain possible\\nPatchy rain possible\\nPatchy rain possible\\nPartly cloudy\\nClear\\nSunny\\nPatchy rain possible\\nPartly cloudy\\nPatchy rain possible\\nLight rain\\nModerate rain\\n\\n## The average weather in Tokyo in August [...] | 24 Partly cloudy 31° /27° | 25 Patchy rain possible 32° /26° | 26 Light rain shower 32° /27° | 27 Partly cloudy 32° /27° | 28 Partly cloudy 30° /26° | 29 Partly cloudy 31° /26° | 30 Sunny 30° /26° |\\n| 31 Light rain shower 31° /26° |  |  |  |  |  |  |',\n",
              "  'score': 0.8660535},\n",
              " {'title': 'Tokyo weather in August 2025 | Japan: How hot?',\n",
              "  'url': 'https://www.weather2travel.com/japan/tokyo/august/',\n",
              "  'content': '31°C maximum daytime temperature in August in Tokyo\\n6 hours of sunshine per day (43% of daylight hours) in August in Tokyo\\n16 days with some rainfall in August in Tokyo\\n24°C minimum night-time temperature in August in Tokyo\\n13 hours of daylight per day in August in Tokyo\\nHigh heat & humidity in August in Tokyo\\n147 mm monthly rainfall in August in Tokyo\\nUV (maximum) index 10 (Very High) in August in Tokyo\\n26°C sea temperature in August in Tokyo\\n\\n### More about Tokyo [...] weather2travel.com - travel deals for your holiday in the sun\\nClick to search\\n\\n# Tokyo weather in August 2026\\n\\nExpect  daytime maximum temperatures of 31°C in Tokyo, Japan in August and high heat and humidity based on long-term weather averages. There are 6 hours of sunshine per day on average with 16 days with some rainfall and typically 147 mm of rainfall in the month. [...] The August weather guide for Japan (Tokyo) shows long term weather averages processed from data supplied by CRU (University of East Anglia), the Met Office & the Netherlands Meteorological Institute. Find out more about our data sources.\\n\\nMetric (°C / mm)  |  Imperial (°F / inches)\\n\\nBack to top\\n\\n### More about Japan',\n",
              "  'score': 0.6538572},\n",
              " {'title': 'Tokyo, Tokyo, Japan Monthly Weather',\n",
              "  'url': 'https://www.accuweather.com/en/jp/tokyo/226396/august-weather/226396',\n",
              "  'content': \"# Tokyo, Tokyo\\n\\nTokyo\\n\\nTokyo\\n\\n## Around the Globe\\n\\nAround the Globe\\n\\n### Hurricane Tracker\\n\\n### Severe Weather\\n\\n### Radar & Maps\\n\\n### News & Features\\n\\n### Astronomy\\n\\n### Business\\n\\n### Climate\\n\\n### Health\\n\\n### Recreation\\n\\n### Sports\\n\\n### Travel\\n\\n### Warnings\\n\\n### Data Suite\\n\\n### Forensics\\n\\n### Advertising\\n\\n### Superior Accuracy™\\n\\n### Video\\n\\n## Monthly\\n\\n## August\\n\\n## 2025\\n\\n## Daily\\n\\n## Temperature Graph\\n\\n## Further Ahead\\n\\nFurther Ahead\\n\\n### September 2025\\n\\n### October 2025\\n\\n### November 2025 [...] ## Around the Globe\\n\\nAround the Globe\\n\\n### Hurricane Tracker\\n\\n### Severe Weather\\n\\n### Radar & Maps\\n\\n### News\\n\\n### Video\\n\\nTop Stories\\n\\nWeather Forecasts\\n\\nU.S. Labor Day: Who's hot, who's cool and who's getting rained on?\\n\\n4 hours ago\\n\\nWeather Forecasts\\n\\nPolar air to bring October-like chill to 250 million in U.S.\\n\\n4 hours ago\\n\\nAstronomy\\n\\nNorthern lights could glow over more than a dozen states Monday night\\n\\n9 hours ago\\n\\nHurricane\\n\\nHurricane Katrina by the Numbers, 20 years later\\n\\n2 days ago [...] Weather News\\n\\nTurtle with unique peanut-shaped shell turns 41 in Missouri\\n\\n3 days ago\\n\\n## Weather Near Tokyo:\\n\\n...\\n\\n...\\n\\n...\",\n",
              "  'score': 0.57952},\n",
              " {'title': 'Tokyo weather in August 2025',\n",
              "  'url': 'https://www.meteoprog.com/weather/Tokyo/month/august/',\n",
              "  'content': 'WEATHER\\n\\nMAPS\\n\\n## Forecast in other regions\\n\\nApple Store\\n\\n### Our projects\\n\\nAll rights reserved. Hyperlink to Meteoprog.com is required when using materials from the site. Use of photo materials of the site without written permission is prohibited. The editorial staff of the project may not share the opinion of the authors and is not responsible for copyrighted materials.\\n\\n© Meteoprog.com 2003-2025\\n\\nMeteoprog App\\n\\nWeather forecast\\n\\nWeather forecast',\n",
              "  'score': 0.48206395},\n",
              " {'title': 'Tokyo City Guide - What to do in Tokyo',\n",
              "  'url': 'https://www.japan-guide.com/e/e2164.html',\n",
              "  'content': \"## Itinerary ideas\\n\\nQuestions? Ask in our forum.\\n\\n## Links and Resources\\n\\n### English\\n\\n#### Tokyo Metropolitan Government\\n\\n### Japanese\\n\\n#### Tokyo Metropolitan Government\\n\\n## Hotels around Tokyo\\n\\n# Tokyo Hotel Guide\\n\\nHow to choose the best places to stay in Tokyo\\n\\nBooking.com\\n\\n## Tokyo Restaurants\\n\\n## Experiences around Tokyo\\n\\nKlook\\n\\n## Simple Guide to the Osaka Expo 2025\\n\\n## The Basics about Overtourism in Japan\\n\\n## Guide to Welcome Suica Mobile [...] ## Guided birdwatching tours in Nemuro, Hokkaido\\n\\n## Experiencing real-life jobs at Kidzania Tokyo\\n\\n## A day in Arashiyama with Gold Guide\\n\\n## Top 5 Things to do in Nagasaki\\n\\n## Traveling with the Japan Rail Pass\\n\\n## Hiroshima Station completes major facelift\\n\\n## Simple Guide to the Osaka Expo 2025\\n\\n## The Basics about Overtourism in Japan\\n\\n## Guide to Welcome Suica Mobile\\n\\n## Guided birdwatching tours in Nemuro, Hokkaido\\n\\n## Experiencing real-life jobs at Kidzania Tokyo [...] # Tokyo\\n\\nTokyo (東京, Tōkyō) is Japan's capital and the world's most populous metropolis. It is also one of Japan's 47 prefectures, consisting of 23 central city wards and multiple cities, towns and villages west of the city center. The Izu and Ogasawara Islands are also part of Tokyo.\",\n",
              "  'score': 0.13510676}]"
            ]
          },
          "metadata": {},
          "execution_count": 14
        }
      ]
    },
    {
      "cell_type": "code",
      "source": [
        "@tool\n",
        "def recommend_clothing(weather: str) -> str:\n",
        "    \"\"\"\n",
        "    Returns a clothing recommendation based on the provided weather description.\n",
        "\n",
        "    This function examines the input string for specific keywords or temperature indicators\n",
        "    (e.g., \"snow\", \"freezing\", \"rain\", \"85°F\") to suggest appropriate attire. It handles\n",
        "    common weather conditions like snow, rain, heat, and cold by providing simple and practical\n",
        "    clothing advice.\n",
        "\n",
        "    :param weather: A brief description of the weather (e.g., \"Overcast, 64.9°F\")\n",
        "    :return: A string with clothing recommendations suitable for the weather\n",
        "    \"\"\"\n",
        "    weather = weather.lower()\n",
        "    if \"snow\" in weather or \"freezing\" in weather:\n",
        "        return \"Wear a heavy coat, gloves, and boots.\"\n",
        "    elif \"rain\" in weather or \"wet\" in weather:\n",
        "        return \"Bring a raincoat and waterproof shoes.\"\n",
        "    elif \"hot\" in weather or \"85\" in weather:\n",
        "        return \"T-shirt, shorts, and sunscreen recommended.\"\n",
        "    elif \"cold\" in weather or \"50\" in weather:\n",
        "        return \"Wear a warm jacket or sweater.\"\n",
        "    else:\n",
        "        return \"A light jacket should be fine.\""
      ],
      "metadata": {
        "id": "ms1WdVqzY4Rv"
      },
      "execution_count": 15,
      "outputs": []
    },
    {
      "cell_type": "code",
      "source": [
        "recommend_clothing(\"What to wear during the hot morning day tomorrow in Cairo Egypt\")"
      ],
      "metadata": {
        "colab": {
          "base_uri": "https://localhost:8080/",
          "height": 35
        },
        "id": "MjHAI9KCZUN4",
        "outputId": "f7df973b-ac0b-4b89-816b-9e21010963a7"
      },
      "execution_count": 17,
      "outputs": [
        {
          "output_type": "execute_result",
          "data": {
            "text/plain": [
              "'T-shirt, shorts, and sunscreen recommended.'"
            ],
            "application/vnd.google.colaboratory.intrinsic+json": {
              "type": "string"
            }
          },
          "metadata": {},
          "execution_count": 17
        }
      ]
    },
    {
      "cell_type": "code",
      "source": [
        "tools=[search_tool,recommend_clothing]\n",
        "\n",
        "tools_by_name={ tool.name:tool for tool in tools}"
      ],
      "metadata": {
        "id": "xpBdOdqGZ04M"
      },
      "execution_count": 18,
      "outputs": []
    },
    {
      "cell_type": "code",
      "source": [
        "from langchain_openai import ChatOpenAI\n",
        "from langchain_core.tools import tool\n",
        "\n",
        "model = ChatOpenAI(model=\"gpt-4o-mini\", api_key=userdata.get('OPENAI_API_KEY'))"
      ],
      "metadata": {
        "id": "zXdnOdRVZ9Cc"
      },
      "execution_count": 19,
      "outputs": []
    },
    {
      "cell_type": "code",
      "source": [
        "from langchain_core.prompts import ChatPromptTemplate, MessagesPlaceholder\n",
        "from langchain_core.messages import BaseMessage, HumanMessage, AIMessage, ToolMessage,SystemMessage\n",
        "\n",
        "chat_prompt = ChatPromptTemplate.from_messages([\n",
        "    (\"system\", \"\"\"\n",
        "You are a helpful AI assistant that thinks step-by-step and uses tools when needed.\n",
        "\n",
        "When responding to queries:\n",
        "1. First, think about what information you need\n",
        "2. Use available tools if you need current data or specific capabilities\n",
        "3. Provide clear, helpful responses based on your reasoning and any tool results\n",
        "\n",
        "Always explain your thinking process to help users understand your approach.\n",
        "\"\"\"),\n",
        "    MessagesPlaceholder(variable_name=\"scratch_pad\")\n",
        "])"
      ],
      "metadata": {
        "id": "Xo_yXo7NaQxV"
      },
      "execution_count": 20,
      "outputs": []
    },
    {
      "cell_type": "code",
      "source": [
        "model_react=chat_prompt|model.bind_tools(tools)"
      ],
      "metadata": {
        "id": "xX-Cdje4aaWw"
      },
      "execution_count": 21,
      "outputs": []
    },
    {
      "cell_type": "code",
      "source": [
        "from typing import (Annotated,Sequence,TypedDict)\n",
        "from langchain_core.messages import BaseMessage\n",
        "from langgraph.graph.message import add_messages\n",
        "\n",
        "class AgentState(TypedDict):\n",
        "    \"\"\"The state of the agent.\"\"\"\n",
        "\n",
        "    # add_messages is a reducer\n",
        "    # See https://langchain-ai.github.io/langgraph/concepts/low_level/#reducers\n",
        "    messages: Annotated[Sequence[BaseMessage], add_messages]"
      ],
      "metadata": {
        "id": "Hov5vOBGae5O"
      },
      "execution_count": 23,
      "outputs": []
    },
    {
      "cell_type": "code",
      "source": [
        "# Example conversation flow:\n",
        "state: AgentState = {\"messages\": []}\n",
        "\n",
        "# append a message using the reducer properly\n",
        "state[\"messages\"] = add_messages(state[\"messages\"], [HumanMessage(content=\"Hi\")])\n",
        "print(\"After greeting:\", state[\"messages\"])\n",
        "\n",
        "# add another message (e.g. a question)\n",
        "state[\"messages\"] = add_messages(state[\"messages\"], [HumanMessage(content=\"Weather in NYC?\")])\n",
        "print(\"After question:\", state)"
      ],
      "metadata": {
        "colab": {
          "base_uri": "https://localhost:8080/"
        },
        "id": "xlnZFzegbEGc",
        "outputId": "9cdec3b3-82ff-4bf0-9fb7-b07b71d19391"
      },
      "execution_count": 24,
      "outputs": [
        {
          "output_type": "stream",
          "name": "stdout",
          "text": [
            "After greeting: [HumanMessage(content='Hi', additional_kwargs={}, response_metadata={}, id='b46a1af2-995f-48fb-8eb7-90ca357437c9')]\n",
            "After question: {'messages': [HumanMessage(content='Hi', additional_kwargs={}, response_metadata={}, id='b46a1af2-995f-48fb-8eb7-90ca357437c9'), HumanMessage(content='Weather in NYC?', additional_kwargs={}, response_metadata={}, id='45b98a84-7972-42c8-a8fb-d8bdeb6fc0e7')]}\n"
          ]
        }
      ]
    },
    {
      "cell_type": "code",
      "source": [
        "dummy_state: AgentState = {\n",
        "    \"messages\": [HumanMessage( \"What's the weather like in Zurich, and what should I wear based on the temperature?\")]}\n",
        "\n",
        "response = model_react.invoke({\"scratch_pad\":dummy_state[\"messages\"]})\n",
        "\n",
        "dummy_state[\"messages\"]=add_messages(dummy_state[\"messages\"],[response])"
      ],
      "metadata": {
        "id": "wUPu-9dXcfJy"
      },
      "execution_count": 25,
      "outputs": []
    },
    {
      "cell_type": "code",
      "source": [
        "tool_call = response.tool_calls[-1]\n",
        "print(\"Tool call:\", tool_call)\n",
        "tool_result = tools_by_name[tool_call[\"name\"]].invoke(tool_call[\"args\"])\n",
        "print(\"Tool result preview:\", tool_result[0]['title'])\n",
        "\n",
        "\n",
        "tool_message = ToolMessage(\n",
        "    content=json.dumps(tool_result),\n",
        "    name=tool_call[\"name\"],\n",
        "    tool_call_id=tool_call[\"id\"]\n",
        ")\n",
        "dummy_state[\"messages\"] = add_messages(dummy_state[\"messages\"], [tool_message])"
      ],
      "metadata": {
        "colab": {
          "base_uri": "https://localhost:8080/"
        },
        "id": "B8Dl_byycfoF",
        "outputId": "1ee9bafd-abba-4dde-803e-dcf2dc0aa621"
      },
      "execution_count": 29,
      "outputs": [
        {
          "output_type": "stream",
          "name": "stdout",
          "text": [
            "Tool call: {'name': 'search_tool', 'args': {'query': 'current weather in Zurich'}, 'id': 'call_vZs2vJf79OXP9aM2dm4WewQz', 'type': 'tool_call'}\n",
            "Tool result preview: Zurich weather in August 2025 - Weather25.com\n"
          ]
        }
      ]
    },
    {
      "cell_type": "code",
      "source": [
        "response = model_react.invoke({\"scratch_pad\": dummy_state[\"messages\"]})\n",
        "dummy_state['messages'] = add_messages(dummy_state['messages'], [response])\n",
        "\n",
        "# check if the model wants to use another tool\n",
        "if response.tool_calls:\n",
        "    tool_call = response.tool_calls[0]\n",
        "    tool_result = tools_by_name[tool_call[\"name\"]].invoke(tool_call[\"args\"])\n",
        "    tool_message = ToolMessage(\n",
        "        content=json.dumps(tool_result),\n",
        "        name=tool_call[\"name\"],\n",
        "        tool_call_id=tool_call[\"id\"]\n",
        "    )\n",
        "    dummy_state['messages'] = add_messages(dummy_state['messages'], [tool_message])"
      ],
      "metadata": {
        "id": "LNk11Wu3cj5k"
      },
      "execution_count": 31,
      "outputs": []
    },
    {
      "cell_type": "code",
      "source": [
        "response = model_react.invoke({\"scratch_pad\": dummy_state[\"messages\"]})\n",
        "print(\"Final response generated:\", response.content is not None)\n",
        "print(\"More tools needed:\", bool(response.tool_calls))"
      ],
      "metadata": {
        "colab": {
          "base_uri": "https://localhost:8080/"
        },
        "id": "MYm2gwYNgK0k",
        "outputId": "2320ac2f-d230-4e6d-d703-b76c6c1fc9e0"
      },
      "execution_count": 32,
      "outputs": [
        {
          "output_type": "stream",
          "name": "stdout",
          "text": [
            "Final response generated: True\n",
            "More tools needed: False\n"
          ]
        }
      ]
    },
    {
      "cell_type": "code",
      "source": [
        "def tool_node(state: AgentState):\n",
        "    \"\"\"Execute all tool calls from the last message in the state.\"\"\"\n",
        "    outputs = []\n",
        "    for tool_call in state[\"messages\"][-1].tool_calls:\n",
        "        tool_result = tools_by_name[tool_call[\"name\"]].invoke(tool_call[\"args\"])\n",
        "        outputs.append(\n",
        "            ToolMessage(\n",
        "                content=json.dumps(tool_result),\n",
        "                name=tool_call[\"name\"],\n",
        "                tool_call_id=tool_call[\"id\"],\n",
        "            )\n",
        "        )\n",
        "    return {\"messages\": outputs}"
      ],
      "metadata": {
        "id": "hbkcyyftgLF_"
      },
      "execution_count": 33,
      "outputs": []
    },
    {
      "cell_type": "code",
      "source": [
        "def call_model(state: AgentState):\n",
        "    \"\"\"Invoke the model with the current conversation state.\"\"\"\n",
        "    response = model_react.invoke({\"scratch_pad\": state[\"messages\"]})\n",
        "    return {\"messages\": [response]}"
      ],
      "metadata": {
        "id": "rPYqoqRCgdbI"
      },
      "execution_count": 34,
      "outputs": []
    },
    {
      "cell_type": "code",
      "source": [
        "def should_continue(state: AgentState):\n",
        "    \"\"\"Determine whether to continue with tool use or end the conversation.\"\"\"\n",
        "    messages = state[\"messages\"]\n",
        "    last_message = messages[-1]\n",
        "    # If there is no function call, then we finish\n",
        "    if not last_message.tool_calls:\n",
        "        return \"end\"\n",
        "    # Otherwise if there is, we continue\n",
        "    else:\n",
        "        return \"continue\""
      ],
      "metadata": {
        "id": "Wz1IK-AAgiIg"
      },
      "execution_count": 35,
      "outputs": []
    },
    {
      "cell_type": "code",
      "source": [
        "from langgraph.graph import StateGraph, END\n",
        "\n",
        "# Define a new graph\n",
        "workflow = StateGraph(AgentState)\n",
        "\n",
        "# Define the two nodes we will cycle between\n",
        "workflow.add_node(\"agent\", call_model)\n",
        "workflow.add_node(\"tools\", tool_node)\n",
        "\n",
        "# Add edges between nodes\n",
        "workflow.add_edge(\"tools\", \"agent\")  # After tools, always go back to agent\n",
        "\n",
        "# Add conditional logic\n",
        "workflow.add_conditional_edges(\n",
        "    \"agent\",\n",
        "    should_continue,\n",
        "    {\n",
        "        \"continue\": \"tools\",  # If tools needed, go to tools node\n",
        "        \"end\": END,          # If done, end the conversation\n",
        "    },\n",
        ")\n",
        "\n",
        "# Set entry point\n",
        "workflow.set_entry_point(\"agent\")\n",
        "\n",
        "# Compile the graph\n",
        "graph = workflow.compile()"
      ],
      "metadata": {
        "id": "Yh-grShtgqp-"
      },
      "execution_count": 36,
      "outputs": []
    },
    {
      "cell_type": "code",
      "source": [
        "from IPython.display import Image, display\n",
        "\n",
        "try:\n",
        "    display(Image(graph.get_graph().draw_mermaid_png()))\n",
        "except Exception:\n",
        "    # This requires some extra dependencies and is optional\n",
        "    pass"
      ],
      "metadata": {
        "colab": {
          "base_uri": "https://localhost:8080/",
          "height": 290
        },
        "id": "5FC61TuhgwgF",
        "outputId": "3e2808cb-bdfc-4cac-96e7-6cc74cd7fb29"
      },
      "execution_count": 37,
      "outputs": [
        {
          "output_type": "display_data",
          "data": {
            "image/png": "[encoded data removed]",
            "text/plain": [
              "<IPython.core.display.Image object>"
            ]
          },
          "metadata": {}
        }
      ]
    },
    {
      "cell_type": "code",
      "source": [
        "def print_stream(stream):\n",
        "    \"\"\"Helper function for formatting the stream nicely.\"\"\"\n",
        "    for s in stream:\n",
        "        message = s[\"messages\"][-1]\n",
        "        if isinstance(message, tuple):\n",
        "            print(message)\n",
        "        else:\n",
        "            message.pretty_print()\n",
        "\n",
        "inputs = {\"messages\": [HumanMessage(content=\"What's the weather like in Zurich, and what should I wear based on the temperature?\")]}\n",
        "\n",
        "print_stream(graph.stream(inputs, stream_mode=\"values\"))"
      ],
      "metadata": {
        "colab": {
          "base_uri": "https://localhost:8080/"
        },
        "id": "gNtqLcjGgyHI",
        "outputId": "e88607dd-76b8-4192-9236-0bc675302805"
      },
      "execution_count": 38,
      "outputs": [
        {
          "output_type": "stream",
          "name": "stdout",
          "text": [
            "================================\u001b[1m Human Message \u001b[0m=================================\n",
            "\n",
            "What's the weather like in Zurich, and what should I wear based on the temperature?\n",
            "==================================\u001b[1m Ai Message \u001b[0m==================================\n",
            "Tool Calls:\n",
            "  search_tool (call_jxnVDQjIDCKh42wyK0FLCIwl)\n",
            " Call ID: call_jxnVDQjIDCKh42wyK0FLCIwl\n",
            "  Args:\n",
            "    query: current weather in Zurich\n",
            "=================================\u001b[1m Tool Message \u001b[0m=================================\n",
            "Name: search_tool\n",
            "\n",
            "[{\"title\": \"Zurich weather in August 2025 - Weather25.com\", \"url\": \"https://www.weather25.com/europe/switzerland/zurich?page=month&month=August\", \"content\": \"weather25.com\\nSearch\\nweather in Switzerland\\nRemove from your favorite locations\\nAdd to my locations\\nShare\\nweather in Switzerland\\n\\n# Zurich weather in August 2025\\n\\nLight rain shower\\nLight rain\\nClear\\nLight rain shower\\nPatchy rain possible\\nCloudy\\nPartly cloudy\\nSunny\\nPatchy rain possible\\nLight rain\\nPatchy rain possible\\nClear\\nClear\\nPatchy light drizzle\\n\\n## The average weather in Zurich in August\\n\\nThe temperatures in Zurich in August are comfortable with low of 12\\u00b0C and and high up to 25\\u00b0C. [...] | 24 Mist 26\\u00b0 /12\\u00b0 | 25 Sunny 25\\u00b0 /12\\u00b0 | 26 Partly cloudy 25\\u00b0 /12\\u00b0 | 27 Light rain shower 23\\u00b0 /12\\u00b0 | 28 Light rain shower 22\\u00b0 /12\\u00b0 | 29 Moderate or heavy rain shower 22\\u00b0 /12\\u00b0 | 30 Sunny 21\\u00b0 /12\\u00b0 |\\n| 31 Light rain shower 23\\u00b0 /12\\u00b0 |  |  |  |  |  |  | [...] | Sun | Mon | Tue | Wed | Thu | Fri | Sat |\\n ---  ---  --- \\n|  |  |  |  |  | 1 Partly cloudy 24\\u00b0 /15\\u00b0 | 2 Moderate or heavy rain shower 25\\u00b0 /14\\u00b0 |\\n| 3 Light rain shower 23\\u00b0 /13\\u00b0 | 4 Moderate rain 24\\u00b0 /13\\u00b0 | 5 Partly cloudy 26\\u00b0 /13\\u00b0 | 6 Mist 23\\u00b0 /12\\u00b0 | 7 Light rain shower 24\\u00b0 /12\\u00b0 | 8 Mist 26\\u00b0 /12\\u00b0 | 9 Mist 28\\u00b0 /13\\u00b0 |\", \"score\": 0.86331123}, {\"title\": \"August - Zurich, Zurich, Switzerland Monthly Weather | AccuWeather\", \"url\": \"https://www.accuweather.com/en/ch/zurich/316622/august-weather/316622\", \"content\": \"# Zurich, Zurich\\n\\nZurich\\n\\nZurich\\n\\n## Around the Globe\\n\\nAround the Globe\\n\\n### Hurricane Tracker\\n\\n### Severe Weather\\n\\n### Radar & Maps\\n\\n### News & Features\\n\\n### Astronomy\\n\\n### Business\\n\\n### Climate\\n\\n### Health\\n\\n### Recreation\\n\\n### Sports\\n\\n### Travel\\n\\n### Warnings\\n\\n### Data Suite\\n\\n### Forensics\\n\\n### Advertising\\n\\n### Superior Accuracy\\u2122\\n\\n### Video\\n\\n## Monthly\\n\\n## August\\n\\n## 2025\\n\\n## Daily\\n\\n## Temperature Graph\\n\\n## Further Ahead\\n\\nFurther Ahead\\n\\n### September 2025\\n\\n### October 2025\\n\\n### November 2025 [...] Weather News\\n\\nTurtle with unique peanut-shaped shell turns 41 in Missouri\\n\\n3 days ago\\n\\n## Weather Near Zurich:\\n\\n...\\n\\n...\\n\\n...\", \"score\": 0.5737984}, {\"title\": \"2025 - Zurich 1, Zurich, Switzerland Monthly Weather | AccuWeather\", \"url\": \"https://www.accuweather.com/en/ch/zurich-1/8021/august-weather/406033_pc\", \"content\": \"# Zurich 1, Zurich\\n\\nZurich 1\\n\\nZurich\\n\\n## Around the Globe\\n\\nAround the Globe\\n\\n### Hurricane Tracker\\n\\n### Severe Weather\\n\\n### Radar & Maps\\n\\n### News & Features\\n\\n### Astronomy\\n\\n### Business\\n\\n### Climate\\n\\n### Health\\n\\n### Recreation\\n\\n### Sports\\n\\n### Travel\\n\\n### Warnings\\n\\n### Data Suite\\n\\n### Forensics\\n\\n### Advertising\\n\\n### Superior Accuracy\\u2122\\n\\n### Video\\n\\n## Monthly\\n\\n## August\\n\\n## 2025\\n\\n## Daily\\n\\n## Temperature Graph\\n\\n## Further Ahead\\n\\nFurther Ahead\\n\\n### September 2025\\n\\n### October 2025 [...] Hurricane Katrina by the Numbers, 20 years later\\n\\n2 days ago\\n\\nHurricane\\n\\nLabor Day is almost here. Where are the hurricanes?\\n\\n4 hours ago\\n\\nFeatured Stories\\n\\nAstronomy\\n\\n2 more celestial sights to see before autumn's arrival\\n\\n2 days ago\\n\\nTravel\\n\\nGas hasn\\u2019t been this cheap on Labor Day since 2020\\n\\n2 days ago\\n\\nWeather News\\n\\nWhy meteorological, astronomical fall start on different dates\\n\\n2 days ago\\n\\nClearing the air: Leaves are falling but it's not autumn yet\\n\\nLATEST ENTRY [...] Why are there so many leaves falling? Is this an early autumn?\\n\\n4 days ago\\n\\nWeather News\\n\\nTurtle with unique peanut-shaped shell turns 41 in Missouri\\n\\n3 days ago\\n\\n...\\n\\n...\\n\\n...\", \"score\": 0.54594}, {\"title\": \"Zurich, Zurich, Switzerland Weather Forecast | AccuWeather\", \"url\": \"https://www.accuweather.com/en/ch/zurich/316622/weather-forecast/316622\", \"content\": \"# Zurich, Zurich\\n\\nZurich\\n\\nZurich\\n\\n## Around the Globe\\n\\nAround the Globe\\n\\n### Hurricane Tracker\\n\\n### Severe Weather\\n\\n### Radar & Maps\\n\\n### News & Features\\n\\n### Astronomy\\n\\n### Business\\n\\n### Climate\\n\\n### Health\\n\\n### Recreation\\n\\n### Sports\\n\\n### Travel\\n\\n### Warnings\\n\\n### Data Suite\\n\\n### Forensics\\n\\n### Advertising\\n\\n### Superior Accuracy\\u2122\\n\\n### Video\\n\\n## Today\\n\\n## Today's Weather\\n\\nMon, Sep 1\\n\\nCloudy and not as warm; afternoon showers\\nHi: 67\\u00b0\\n\\nTonight: Heavy showers in the evening; cloudy\\nLo: 56\\u00b0 [...] ## Current Weather\\n\\n1:43 AM\\n\\n## Zurich Weather Radar\\n\\nZurich Weather Radar\\n\\n## Hourly Weather\\n\\nrain drop\\n\\nrain drop\\n\\nrain drop\\n\\nrain drop\\n\\nrain drop\\n\\nrain drop\\n\\nrain drop\\n\\nrain drop\\n\\nrain drop\\n\\nrain drop\\n\\nrain drop\\n\\nrain drop\\n\\n## 10-Day Weather Forecast\\n\\nToday\\n\\n9/1\\n\\nNot as warm; p.m. showers\\n\\nNight: Downpours early; clouds\\n\\nTue\\n\\n9/2\\n\\nA couple of showers\\n\\nA few late-night showers\\n\\nWed\\n\\n9/3\\n\\nPartly sunny and pleasant\\n\\nClear\\n\\nThu\\n\\n9/4\\n\\nOccasional rain\\n\\nA couple of evening showers\\n\\nFri\\n\\n9/5 [...] Afternoon showers\\n\\nMainly clear\\n\\nSat\\n\\n9/6\\n\\nMostly sunny and pleasant\\n\\nClear\\n\\nSun\\n\\n9/7\\n\\nWarm with plenty of sunshine\\n\\nClear\\n\\nMon\\n\\n9/8\\n\\nWarm with plenty of sunshine\\n\\nMainly clear\\n\\nTue\\n\\n9/9\\n\\nSunshine and remaining warm\\n\\nMainly clear\\n\\nWed\\n\\n9/10\\n\\nSunshine and a few clouds\\n\\nMainly clear\\n\\n## Sun & Moon\\n\\n## Air Quality\", \"score\": 0.4527543}, {\"title\": \"10-Day Weather Forecast for Langstrasse, Z\\u00fcrich, Switzerland\", \"url\": \"https://weather.com/weather/tenday/l/Langstrasse+Z%C3%BCrich+Switzerland?canonicalCityId=073a99a62e75812ec385c6da3cc46f95\", \"content\": \"## Recent Locations\\n\\n## Weather Forecasts\\n\\n## Radar & Maps\\n\\n## News & Media\\n\\n## Products & Account\\n\\n## Lifestyle\\n\\n### Specialty Forecasts\\n\\n# 10 Day Weather-Langstrasse, Z\\u00fcrich, Switzerland\\n\\n## Tonight\\n\\n## Night\\n\\nCloudy. Low 58F. Winds light and variable.\\n\\nundefined\\n\\nHeads-up\\n\\nWhen Will You See Changing Fall Colors?\\n\\n## Mon 01\\n\\n## Day\\n\\nCloudy with rain developing later in the day. High 67F. Winds light and variable. Chance of rain 60%.\\n\\n## Night [...] The Weather Channel is the world's most accurate forecaster according to ForecastWatch, Global and Regional Weather Forecast Accuracy Overview, 2021-2024, commissioned by The Weather Company.\\n\\nWeather Channel\\n\\n\\u00a9 The Weather Company, LLC 2025 [...] Cloudy with a few showers. Low 53F. Winds light and variable. Chance of rain 30%.\\n\\n## Sun 14\\n\\n## Day\\n\\nChance of a shower or two during the morning, followed by partly cloudy skies in the afternoon. High near 70F. Winds light and variable. Chance of rain 30%.\\n\\n## Night\\n\\nA few clouds. Low 53F. Winds light and variable.\\n\\n## Don't Miss\\n\\n## Radar\\n\\n## Summer And Your Skin\\n\\n## Home, Garage & Garden\\n\\n## Travel\\n\\n## Seasonal Hub\\n\\n## The Rhythm Of Resilience\\n\\n## Sun & Moon\\n\\n## When To Visit, What To Do\", \"score\": 0.36629558}]\n",
            "==================================\u001b[1m Ai Message \u001b[0m==================================\n",
            "Tool Calls:\n",
            "  recommend_clothing (call_jisdMnvpOVYrBfP3DnMimMTz)\n",
            " Call ID: call_jisdMnvpOVYrBfP3DnMimMTz\n",
            "  Args:\n",
            "    weather: Cloudy with rain developing later in the day. High 67°F. Low 58°F.\n",
            "=================================\u001b[1m Tool Message \u001b[0m=================================\n",
            "Name: recommend_clothing\n",
            "\n",
            "\"Bring a raincoat and waterproof shoes.\"\n",
            "==================================\u001b[1m Ai Message \u001b[0m==================================\n",
            "\n",
            "The current weather in Zurich is cloudy with rain developing later in the day. The high temperature is around 67°F (approximately 19°C), and the low is about 58°F (approximately 14°C).\n",
            "\n",
            "Based on this weather, I recommend that you bring a raincoat and wear waterproof shoes to stay dry and comfortable. Additionally, you might want to wear layers underneath in case it feels a bit chilly.\n"
          ]
        }
      ]
    }
  ]
}